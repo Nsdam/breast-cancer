{
 "cells": [
  {
   "cell_type": "markdown",
   "id": "bbfad610",
   "metadata": {},
   "source": [
    "# PART 1"
   ]
  },
  {
   "cell_type": "markdown",
   "id": "1dabc31e",
   "metadata": {},
   "source": [
    "## Python Coding and Data Set"
   ]
  },
  {
   "cell_type": "markdown",
   "id": "5393059e",
   "metadata": {},
   "source": [
    "Load in the data file and header file provided The dataframe does not currently have a header, load in the header file and attach it to the dataframe"
   ]
  },
  {
   "cell_type": "code",
   "execution_count": 1,
   "id": "32123eeb",
   "metadata": {},
   "outputs": [],
   "source": [
    "# import required libraries and define parameters\n",
    "# TODO: consider replacing hard-coded parameters with config file\n",
    "import pandas as pd\n",
    "import numpy as np\n",
    "import csv\n",
    "from sklearn.utils import resample\n",
    "from sklearn.feature_selection import SelectKBest\n",
    "from sklearn.feature_selection import chi2\n",
    "from sklearn.ensemble import ExtraTreesClassifier\n",
    "from sklearn import preprocessing\n",
    "import matplotlib as mpl\n",
    "import matplotlib.pyplot as plt \n",
    "%matplotlib inline\n",
    "mpl.rcParams['patch.force_edgecolor'] = True\n",
    "import seaborn as sns\n",
    "from sklearn import preprocessing, datasets, svm\n",
    "from sklearn.model_selection import train_test_split\n",
    "from sklearn.metrics import accuracy_score\n",
    "from sklearn.metrics import average_precision_score\n",
    "from sklearn.linear_model import LogisticRegression\n",
    "from sklearn.feature_selection import SelectPercentile, f_classif\n",
    "import warnings\n",
    "warnings.filterwarnings(\"ignore\")\n",
    "\n",
    "csv_filename = \"breast-cancer.csv\"\n",
    "head_file = \"field_names.txt\""
   ]
  },
  {
   "cell_type": "code",
   "execution_count": 2,
   "id": "4c46c567",
   "metadata": {},
   "outputs": [
    {
     "name": "stdout",
     "output_type": "stream",
     "text": [
      "here is the head_file_list ['ID', 'diagnosis', 'radius_mean', 'radius_sd_error', 'radius_worst', 'texture_mean', 'texture_sd_error', 'texture_worst', 'perimeter_mean', 'perimeter_sd_error', 'perimeter_worst', 'area_mean', 'area_sd_error', 'area_worst', 'smoothness_mean', 'smoothness_sd_error', 'smoothness_worst', 'compactness_mean', 'compactness_sd_error', 'compactness_worst', 'concavity_mean', 'concavity_sd_error', 'concavity_worst', 'concave_points_mean', 'concave_points_sd_error', 'concave_points_worst', 'symmetry_mean', 'symmetry_sd_error', 'symmetry_worst', 'fractal_dimension_mean', 'fractal_dimension_sd_error', 'fractal_dimension_worst']\n"
     ]
    }
   ],
   "source": [
    "# read the text file containing the header files\n",
    "head_file_obj = open(head_file, 'r')\n",
    "head_file_raw_list = head_file_obj.readlines()\n",
    "head_file_obj.close()\n",
    "# use list comprehension to remove line feeds from list\n",
    "head_file_list = [item.replace(\"\\n\",\"\") for item in head_file_raw_list]\n",
    "print(\"here is the head_file_list \"+str(head_file_list))"
   ]
  },
  {
   "cell_type": "code",
   "execution_count": 3,
   "id": "ccb76137",
   "metadata": {},
   "outputs": [
    {
     "data": {
      "text/html": [
       "<div>\n",
       "<style scoped>\n",
       "    .dataframe tbody tr th:only-of-type {\n",
       "        vertical-align: middle;\n",
       "    }\n",
       "\n",
       "    .dataframe tbody tr th {\n",
       "        vertical-align: top;\n",
       "    }\n",
       "\n",
       "    .dataframe thead th {\n",
       "        text-align: right;\n",
       "    }\n",
       "</style>\n",
       "<table border=\"1\" class=\"dataframe\">\n",
       "  <thead>\n",
       "    <tr style=\"text-align: right;\">\n",
       "      <th></th>\n",
       "      <th>ID</th>\n",
       "      <th>diagnosis</th>\n",
       "      <th>radius_mean</th>\n",
       "      <th>radius_sd_error</th>\n",
       "      <th>radius_worst</th>\n",
       "      <th>texture_mean</th>\n",
       "      <th>texture_sd_error</th>\n",
       "      <th>texture_worst</th>\n",
       "      <th>perimeter_mean</th>\n",
       "      <th>perimeter_sd_error</th>\n",
       "      <th>...</th>\n",
       "      <th>concavity_worst</th>\n",
       "      <th>concave_points_mean</th>\n",
       "      <th>concave_points_sd_error</th>\n",
       "      <th>concave_points_worst</th>\n",
       "      <th>symmetry_mean</th>\n",
       "      <th>symmetry_sd_error</th>\n",
       "      <th>symmetry_worst</th>\n",
       "      <th>fractal_dimension_mean</th>\n",
       "      <th>fractal_dimension_sd_error</th>\n",
       "      <th>fractal_dimension_worst</th>\n",
       "    </tr>\n",
       "  </thead>\n",
       "  <tbody>\n",
       "    <tr>\n",
       "      <th>0</th>\n",
       "      <td>842302</td>\n",
       "      <td>M</td>\n",
       "      <td>17.99</td>\n",
       "      <td>10.38</td>\n",
       "      <td>122.80</td>\n",
       "      <td>1001.0</td>\n",
       "      <td>0.11840</td>\n",
       "      <td>0.27760</td>\n",
       "      <td>0.3001</td>\n",
       "      <td>0.14710</td>\n",
       "      <td>...</td>\n",
       "      <td>25.38</td>\n",
       "      <td>17.33</td>\n",
       "      <td>184.60</td>\n",
       "      <td>2019.0</td>\n",
       "      <td>0.1622</td>\n",
       "      <td>0.6656</td>\n",
       "      <td>0.7119</td>\n",
       "      <td>0.2654</td>\n",
       "      <td>0.4601</td>\n",
       "      <td>0.11890</td>\n",
       "    </tr>\n",
       "    <tr>\n",
       "      <th>1</th>\n",
       "      <td>842517</td>\n",
       "      <td>M</td>\n",
       "      <td>20.57</td>\n",
       "      <td>17.77</td>\n",
       "      <td>132.90</td>\n",
       "      <td>1326.0</td>\n",
       "      <td>0.08474</td>\n",
       "      <td>0.07864</td>\n",
       "      <td>0.0869</td>\n",
       "      <td>0.07017</td>\n",
       "      <td>...</td>\n",
       "      <td>24.99</td>\n",
       "      <td>23.41</td>\n",
       "      <td>158.80</td>\n",
       "      <td>1956.0</td>\n",
       "      <td>0.1238</td>\n",
       "      <td>0.1866</td>\n",
       "      <td>0.2416</td>\n",
       "      <td>0.1860</td>\n",
       "      <td>0.2750</td>\n",
       "      <td>0.08902</td>\n",
       "    </tr>\n",
       "    <tr>\n",
       "      <th>2</th>\n",
       "      <td>84300903</td>\n",
       "      <td>M</td>\n",
       "      <td>19.69</td>\n",
       "      <td>21.25</td>\n",
       "      <td>130.00</td>\n",
       "      <td>1203.0</td>\n",
       "      <td>0.10960</td>\n",
       "      <td>0.15990</td>\n",
       "      <td>0.1974</td>\n",
       "      <td>0.12790</td>\n",
       "      <td>...</td>\n",
       "      <td>23.57</td>\n",
       "      <td>25.53</td>\n",
       "      <td>152.50</td>\n",
       "      <td>1709.0</td>\n",
       "      <td>0.1444</td>\n",
       "      <td>0.4245</td>\n",
       "      <td>0.4504</td>\n",
       "      <td>0.2430</td>\n",
       "      <td>0.3613</td>\n",
       "      <td>0.08758</td>\n",
       "    </tr>\n",
       "    <tr>\n",
       "      <th>3</th>\n",
       "      <td>84348301</td>\n",
       "      <td>M</td>\n",
       "      <td>11.42</td>\n",
       "      <td>20.38</td>\n",
       "      <td>77.58</td>\n",
       "      <td>386.1</td>\n",
       "      <td>0.14250</td>\n",
       "      <td>0.28390</td>\n",
       "      <td>0.2414</td>\n",
       "      <td>0.10520</td>\n",
       "      <td>...</td>\n",
       "      <td>14.91</td>\n",
       "      <td>26.50</td>\n",
       "      <td>98.87</td>\n",
       "      <td>567.7</td>\n",
       "      <td>0.2098</td>\n",
       "      <td>0.8663</td>\n",
       "      <td>0.6869</td>\n",
       "      <td>0.2575</td>\n",
       "      <td>0.6638</td>\n",
       "      <td>0.17300</td>\n",
       "    </tr>\n",
       "    <tr>\n",
       "      <th>4</th>\n",
       "      <td>84358402</td>\n",
       "      <td>M</td>\n",
       "      <td>20.29</td>\n",
       "      <td>14.34</td>\n",
       "      <td>135.10</td>\n",
       "      <td>1297.0</td>\n",
       "      <td>0.10030</td>\n",
       "      <td>0.13280</td>\n",
       "      <td>0.1980</td>\n",
       "      <td>0.10430</td>\n",
       "      <td>...</td>\n",
       "      <td>22.54</td>\n",
       "      <td>16.67</td>\n",
       "      <td>152.20</td>\n",
       "      <td>1575.0</td>\n",
       "      <td>0.1374</td>\n",
       "      <td>0.2050</td>\n",
       "      <td>0.4000</td>\n",
       "      <td>0.1625</td>\n",
       "      <td>0.2364</td>\n",
       "      <td>0.07678</td>\n",
       "    </tr>\n",
       "  </tbody>\n",
       "</table>\n",
       "<p>5 rows × 32 columns</p>\n",
       "</div>"
      ],
      "text/plain": [
       "         ID diagnosis  radius_mean  radius_sd_error  radius_worst  \\\n",
       "0    842302         M        17.99            10.38        122.80   \n",
       "1    842517         M        20.57            17.77        132.90   \n",
       "2  84300903         M        19.69            21.25        130.00   \n",
       "3  84348301         M        11.42            20.38         77.58   \n",
       "4  84358402         M        20.29            14.34        135.10   \n",
       "\n",
       "   texture_mean  texture_sd_error  texture_worst  perimeter_mean  \\\n",
       "0        1001.0           0.11840        0.27760          0.3001   \n",
       "1        1326.0           0.08474        0.07864          0.0869   \n",
       "2        1203.0           0.10960        0.15990          0.1974   \n",
       "3         386.1           0.14250        0.28390          0.2414   \n",
       "4        1297.0           0.10030        0.13280          0.1980   \n",
       "\n",
       "   perimeter_sd_error  ...  concavity_worst  concave_points_mean  \\\n",
       "0             0.14710  ...            25.38                17.33   \n",
       "1             0.07017  ...            24.99                23.41   \n",
       "2             0.12790  ...            23.57                25.53   \n",
       "3             0.10520  ...            14.91                26.50   \n",
       "4             0.10430  ...            22.54                16.67   \n",
       "\n",
       "   concave_points_sd_error  concave_points_worst  symmetry_mean  \\\n",
       "0                   184.60                2019.0         0.1622   \n",
       "1                   158.80                1956.0         0.1238   \n",
       "2                   152.50                1709.0         0.1444   \n",
       "3                    98.87                 567.7         0.2098   \n",
       "4                   152.20                1575.0         0.1374   \n",
       "\n",
       "   symmetry_sd_error  symmetry_worst  fractal_dimension_mean  \\\n",
       "0             0.6656          0.7119                  0.2654   \n",
       "1             0.1866          0.2416                  0.1860   \n",
       "2             0.4245          0.4504                  0.2430   \n",
       "3             0.8663          0.6869                  0.2575   \n",
       "4             0.2050          0.4000                  0.1625   \n",
       "\n",
       "   fractal_dimension_sd_error  fractal_dimension_worst  \n",
       "0                      0.4601                  0.11890  \n",
       "1                      0.2750                  0.08902  \n",
       "2                      0.3613                  0.08758  \n",
       "3                      0.6638                  0.17300  \n",
       "4                      0.2364                  0.07678  \n",
       "\n",
       "[5 rows x 32 columns]"
      ]
     },
     "execution_count": 3,
     "metadata": {},
     "output_type": "execute_result"
    }
   ],
   "source": [
    "# read the csv file into a dataframe and incorporate head_file_list as the headers for the dataframe\n",
    "df = pd.read_csv(csv_filename,names = head_file_list)\n",
    "df.head()"
   ]
  },
  {
   "cell_type": "markdown",
   "id": "091f631e",
   "metadata": {},
   "source": [
    "## Comment on any steps you might take to evaluate or transform the dataset."
   ]
  },
  {
   "cell_type": "markdown",
   "id": "18b9bea0",
   "metadata": {},
   "source": [
    "#### Evaluate The Dataset"
   ]
  },
  {
   "cell_type": "markdown",
   "id": "bd6392c3",
   "metadata": {},
   "source": [
    "When I look at the data, I see that the column names don't match the data. This is evident since the worst results usually differ significantly from the mean values for the same variable. For example, the first row has texture_mean = 1001.0, but texture_worst = 0.27760. Given the low standard error, it doesn't make sense that the worst figure is so much smaller than the mean. If I were dealing with this issue in the real world, the first thing I'd do is double-check that the column heads are actually in the correct sequence in relation to the data."
   ]
  },
  {
   "cell_type": "code",
   "execution_count": 4,
   "id": "61e43208",
   "metadata": {},
   "outputs": [],
   "source": [
    "def normalize_df(df):\n",
    "    '''given a dataframe, normalize by column - from https://stackoverflow.com/questions/26414913/normalize-columns-of-pandas-data-frame'''\n",
    "    col_names = list(df) # save column names\n",
    "    x = df.values #returns a numpy array\n",
    "    min_max_scaler = preprocessing.MinMaxScaler() # define scaling transform\n",
    "    x_scaled = min_max_scaler.fit_transform(x) # fit scaling transform\n",
    "    df = pd.DataFrame(x_scaled, columns = col_names) # transform normalized columns back into a dataframe\n",
    "    return(df)"
   ]
  },
  {
   "cell_type": "code",
   "execution_count": 5,
   "id": "58c20d02",
   "metadata": {},
   "outputs": [
    {
     "data": {
      "text/html": [
       "<div>\n",
       "<style scoped>\n",
       "    .dataframe tbody tr th:only-of-type {\n",
       "        vertical-align: middle;\n",
       "    }\n",
       "\n",
       "    .dataframe tbody tr th {\n",
       "        vertical-align: top;\n",
       "    }\n",
       "\n",
       "    .dataframe thead th {\n",
       "        text-align: right;\n",
       "    }\n",
       "</style>\n",
       "<table border=\"1\" class=\"dataframe\">\n",
       "  <thead>\n",
       "    <tr style=\"text-align: right;\">\n",
       "      <th></th>\n",
       "      <th>ID</th>\n",
       "      <th>radius_mean</th>\n",
       "      <th>radius_sd_error</th>\n",
       "      <th>radius_worst</th>\n",
       "      <th>texture_mean</th>\n",
       "      <th>texture_sd_error</th>\n",
       "      <th>texture_worst</th>\n",
       "      <th>perimeter_mean</th>\n",
       "      <th>perimeter_sd_error</th>\n",
       "      <th>perimeter_worst</th>\n",
       "      <th>...</th>\n",
       "      <th>concavity_worst</th>\n",
       "      <th>concave_points_mean</th>\n",
       "      <th>concave_points_sd_error</th>\n",
       "      <th>concave_points_worst</th>\n",
       "      <th>symmetry_mean</th>\n",
       "      <th>symmetry_sd_error</th>\n",
       "      <th>symmetry_worst</th>\n",
       "      <th>fractal_dimension_mean</th>\n",
       "      <th>fractal_dimension_sd_error</th>\n",
       "      <th>fractal_dimension_worst</th>\n",
       "    </tr>\n",
       "  </thead>\n",
       "  <tbody>\n",
       "    <tr>\n",
       "      <th>count</th>\n",
       "      <td>5.690000e+02</td>\n",
       "      <td>569.000000</td>\n",
       "      <td>569.000000</td>\n",
       "      <td>569.000000</td>\n",
       "      <td>569.000000</td>\n",
       "      <td>569.000000</td>\n",
       "      <td>569.000000</td>\n",
       "      <td>569.000000</td>\n",
       "      <td>569.000000</td>\n",
       "      <td>569.000000</td>\n",
       "      <td>...</td>\n",
       "      <td>569.000000</td>\n",
       "      <td>569.000000</td>\n",
       "      <td>569.000000</td>\n",
       "      <td>569.000000</td>\n",
       "      <td>569.000000</td>\n",
       "      <td>569.000000</td>\n",
       "      <td>569.000000</td>\n",
       "      <td>569.000000</td>\n",
       "      <td>569.000000</td>\n",
       "      <td>569.000000</td>\n",
       "    </tr>\n",
       "    <tr>\n",
       "      <th>mean</th>\n",
       "      <td>3.037183e+07</td>\n",
       "      <td>14.127292</td>\n",
       "      <td>19.289649</td>\n",
       "      <td>91.969033</td>\n",
       "      <td>654.889104</td>\n",
       "      <td>0.096360</td>\n",
       "      <td>0.104341</td>\n",
       "      <td>0.088799</td>\n",
       "      <td>0.048919</td>\n",
       "      <td>0.181162</td>\n",
       "      <td>...</td>\n",
       "      <td>16.269190</td>\n",
       "      <td>25.677223</td>\n",
       "      <td>107.261213</td>\n",
       "      <td>880.583128</td>\n",
       "      <td>0.132369</td>\n",
       "      <td>0.254265</td>\n",
       "      <td>0.272188</td>\n",
       "      <td>0.114606</td>\n",
       "      <td>0.290076</td>\n",
       "      <td>0.083946</td>\n",
       "    </tr>\n",
       "    <tr>\n",
       "      <th>std</th>\n",
       "      <td>1.250206e+08</td>\n",
       "      <td>3.524049</td>\n",
       "      <td>4.301036</td>\n",
       "      <td>24.298981</td>\n",
       "      <td>351.914129</td>\n",
       "      <td>0.014064</td>\n",
       "      <td>0.052813</td>\n",
       "      <td>0.079720</td>\n",
       "      <td>0.038803</td>\n",
       "      <td>0.027414</td>\n",
       "      <td>...</td>\n",
       "      <td>4.833242</td>\n",
       "      <td>6.146258</td>\n",
       "      <td>33.602542</td>\n",
       "      <td>569.356993</td>\n",
       "      <td>0.022832</td>\n",
       "      <td>0.157336</td>\n",
       "      <td>0.208624</td>\n",
       "      <td>0.065732</td>\n",
       "      <td>0.061867</td>\n",
       "      <td>0.018061</td>\n",
       "    </tr>\n",
       "    <tr>\n",
       "      <th>min</th>\n",
       "      <td>8.670000e+03</td>\n",
       "      <td>6.981000</td>\n",
       "      <td>9.710000</td>\n",
       "      <td>43.790000</td>\n",
       "      <td>143.500000</td>\n",
       "      <td>0.052630</td>\n",
       "      <td>0.019380</td>\n",
       "      <td>0.000000</td>\n",
       "      <td>0.000000</td>\n",
       "      <td>0.106000</td>\n",
       "      <td>...</td>\n",
       "      <td>7.930000</td>\n",
       "      <td>12.020000</td>\n",
       "      <td>50.410000</td>\n",
       "      <td>185.200000</td>\n",
       "      <td>0.071170</td>\n",
       "      <td>0.027290</td>\n",
       "      <td>0.000000</td>\n",
       "      <td>0.000000</td>\n",
       "      <td>0.156500</td>\n",
       "      <td>0.055040</td>\n",
       "    </tr>\n",
       "    <tr>\n",
       "      <th>25%</th>\n",
       "      <td>8.692180e+05</td>\n",
       "      <td>11.700000</td>\n",
       "      <td>16.170000</td>\n",
       "      <td>75.170000</td>\n",
       "      <td>420.300000</td>\n",
       "      <td>0.086370</td>\n",
       "      <td>0.064920</td>\n",
       "      <td>0.029560</td>\n",
       "      <td>0.020310</td>\n",
       "      <td>0.161900</td>\n",
       "      <td>...</td>\n",
       "      <td>13.010000</td>\n",
       "      <td>21.080000</td>\n",
       "      <td>84.110000</td>\n",
       "      <td>515.300000</td>\n",
       "      <td>0.116600</td>\n",
       "      <td>0.147200</td>\n",
       "      <td>0.114500</td>\n",
       "      <td>0.064930</td>\n",
       "      <td>0.250400</td>\n",
       "      <td>0.071460</td>\n",
       "    </tr>\n",
       "    <tr>\n",
       "      <th>50%</th>\n",
       "      <td>9.060240e+05</td>\n",
       "      <td>13.370000</td>\n",
       "      <td>18.840000</td>\n",
       "      <td>86.240000</td>\n",
       "      <td>551.100000</td>\n",
       "      <td>0.095870</td>\n",
       "      <td>0.092630</td>\n",
       "      <td>0.061540</td>\n",
       "      <td>0.033500</td>\n",
       "      <td>0.179200</td>\n",
       "      <td>...</td>\n",
       "      <td>14.970000</td>\n",
       "      <td>25.410000</td>\n",
       "      <td>97.660000</td>\n",
       "      <td>686.500000</td>\n",
       "      <td>0.131300</td>\n",
       "      <td>0.211900</td>\n",
       "      <td>0.226700</td>\n",
       "      <td>0.099930</td>\n",
       "      <td>0.282200</td>\n",
       "      <td>0.080040</td>\n",
       "    </tr>\n",
       "    <tr>\n",
       "      <th>75%</th>\n",
       "      <td>8.813129e+06</td>\n",
       "      <td>15.780000</td>\n",
       "      <td>21.800000</td>\n",
       "      <td>104.100000</td>\n",
       "      <td>782.700000</td>\n",
       "      <td>0.105300</td>\n",
       "      <td>0.130400</td>\n",
       "      <td>0.130700</td>\n",
       "      <td>0.074000</td>\n",
       "      <td>0.195700</td>\n",
       "      <td>...</td>\n",
       "      <td>18.790000</td>\n",
       "      <td>29.720000</td>\n",
       "      <td>125.400000</td>\n",
       "      <td>1084.000000</td>\n",
       "      <td>0.146000</td>\n",
       "      <td>0.339100</td>\n",
       "      <td>0.382900</td>\n",
       "      <td>0.161400</td>\n",
       "      <td>0.317900</td>\n",
       "      <td>0.092080</td>\n",
       "    </tr>\n",
       "    <tr>\n",
       "      <th>max</th>\n",
       "      <td>9.113205e+08</td>\n",
       "      <td>28.110000</td>\n",
       "      <td>39.280000</td>\n",
       "      <td>188.500000</td>\n",
       "      <td>2501.000000</td>\n",
       "      <td>0.163400</td>\n",
       "      <td>0.345400</td>\n",
       "      <td>0.426800</td>\n",
       "      <td>0.201200</td>\n",
       "      <td>0.304000</td>\n",
       "      <td>...</td>\n",
       "      <td>36.040000</td>\n",
       "      <td>49.540000</td>\n",
       "      <td>251.200000</td>\n",
       "      <td>4254.000000</td>\n",
       "      <td>0.222600</td>\n",
       "      <td>1.058000</td>\n",
       "      <td>1.252000</td>\n",
       "      <td>0.291000</td>\n",
       "      <td>0.663800</td>\n",
       "      <td>0.207500</td>\n",
       "    </tr>\n",
       "  </tbody>\n",
       "</table>\n",
       "<p>8 rows × 31 columns</p>\n",
       "</div>"
      ],
      "text/plain": [
       "                 ID  radius_mean  radius_sd_error  radius_worst  texture_mean  \\\n",
       "count  5.690000e+02   569.000000       569.000000    569.000000    569.000000   \n",
       "mean   3.037183e+07    14.127292        19.289649     91.969033    654.889104   \n",
       "std    1.250206e+08     3.524049         4.301036     24.298981    351.914129   \n",
       "min    8.670000e+03     6.981000         9.710000     43.790000    143.500000   \n",
       "25%    8.692180e+05    11.700000        16.170000     75.170000    420.300000   \n",
       "50%    9.060240e+05    13.370000        18.840000     86.240000    551.100000   \n",
       "75%    8.813129e+06    15.780000        21.800000    104.100000    782.700000   \n",
       "max    9.113205e+08    28.110000        39.280000    188.500000   2501.000000   \n",
       "\n",
       "       texture_sd_error  texture_worst  perimeter_mean  perimeter_sd_error  \\\n",
       "count        569.000000     569.000000      569.000000          569.000000   \n",
       "mean           0.096360       0.104341        0.088799            0.048919   \n",
       "std            0.014064       0.052813        0.079720            0.038803   \n",
       "min            0.052630       0.019380        0.000000            0.000000   \n",
       "25%            0.086370       0.064920        0.029560            0.020310   \n",
       "50%            0.095870       0.092630        0.061540            0.033500   \n",
       "75%            0.105300       0.130400        0.130700            0.074000   \n",
       "max            0.163400       0.345400        0.426800            0.201200   \n",
       "\n",
       "       perimeter_worst  ...  concavity_worst  concave_points_mean  \\\n",
       "count       569.000000  ...       569.000000           569.000000   \n",
       "mean          0.181162  ...        16.269190            25.677223   \n",
       "std           0.027414  ...         4.833242             6.146258   \n",
       "min           0.106000  ...         7.930000            12.020000   \n",
       "25%           0.161900  ...        13.010000            21.080000   \n",
       "50%           0.179200  ...        14.970000            25.410000   \n",
       "75%           0.195700  ...        18.790000            29.720000   \n",
       "max           0.304000  ...        36.040000            49.540000   \n",
       "\n",
       "       concave_points_sd_error  concave_points_worst  symmetry_mean  \\\n",
       "count               569.000000            569.000000     569.000000   \n",
       "mean                107.261213            880.583128       0.132369   \n",
       "std                  33.602542            569.356993       0.022832   \n",
       "min                  50.410000            185.200000       0.071170   \n",
       "25%                  84.110000            515.300000       0.116600   \n",
       "50%                  97.660000            686.500000       0.131300   \n",
       "75%                 125.400000           1084.000000       0.146000   \n",
       "max                 251.200000           4254.000000       0.222600   \n",
       "\n",
       "       symmetry_sd_error  symmetry_worst  fractal_dimension_mean  \\\n",
       "count         569.000000      569.000000              569.000000   \n",
       "mean            0.254265        0.272188                0.114606   \n",
       "std             0.157336        0.208624                0.065732   \n",
       "min             0.027290        0.000000                0.000000   \n",
       "25%             0.147200        0.114500                0.064930   \n",
       "50%             0.211900        0.226700                0.099930   \n",
       "75%             0.339100        0.382900                0.161400   \n",
       "max             1.058000        1.252000                0.291000   \n",
       "\n",
       "       fractal_dimension_sd_error  fractal_dimension_worst  \n",
       "count                  569.000000               569.000000  \n",
       "mean                     0.290076                 0.083946  \n",
       "std                      0.061867                 0.018061  \n",
       "min                      0.156500                 0.055040  \n",
       "25%                      0.250400                 0.071460  \n",
       "50%                      0.282200                 0.080040  \n",
       "75%                      0.317900                 0.092080  \n",
       "max                      0.663800                 0.207500  \n",
       "\n",
       "[8 rows x 31 columns]"
      ]
     },
     "execution_count": 5,
     "metadata": {},
     "output_type": "execute_result"
    }
   ],
   "source": [
    "# get various summary statistics, excluding NaN values\n",
    "df.describe()"
   ]
  },
  {
   "cell_type": "code",
   "execution_count": 6,
   "id": "af37e9e0",
   "metadata": {},
   "outputs": [
    {
     "data": {
      "text/plain": [
       "count    569.000000\n",
       "mean       2.866059\n",
       "std        2.021855\n",
       "min        0.757000\n",
       "25%        1.606000\n",
       "50%        2.287000\n",
       "75%        3.357000\n",
       "max       21.980000\n",
       "Name: smoothness_mean, dtype: float64"
      ]
     },
     "execution_count": 6,
     "metadata": {},
     "output_type": "execute_result"
    }
   ],
   "source": [
    "df['smoothness_mean'].describe()"
   ]
  },
  {
   "cell_type": "code",
   "execution_count": 7,
   "id": "1c731f79",
   "metadata": {},
   "outputs": [
    {
     "data": {
      "text/plain": [
       "B    357\n",
       "M    212\n",
       "Name: diagnosis, dtype: int64"
      ]
     },
     "execution_count": 7,
     "metadata": {},
     "output_type": "execute_result"
    }
   ],
   "source": [
    "# get the count per diagnosis\n",
    "df['diagnosis'].value_counts()"
   ]
  },
  {
   "cell_type": "markdown",
   "id": "46466dca",
   "metadata": {},
   "source": [
    "## Compute the mean and median smoothness and compactness for benign and malignant tumors"
   ]
  },
  {
   "cell_type": "markdown",
   "id": "8809bae4",
   "metadata": {},
   "source": [
    "### Mean Smoothness and Median Smoothness"
   ]
  },
  {
   "cell_type": "code",
   "execution_count": 8,
   "id": "c483ba21",
   "metadata": {},
   "outputs": [
    {
     "name": "stdout",
     "output_type": "stream",
     "text": [
      "Mean smoothness (benign (0) and malignant (1) ): \n",
      "diagnosis\n",
      "B    2.000321\n",
      "M    4.323929\n",
      "Name: smoothness_mean, dtype: float64\n",
      "============================================================\n",
      "Median smoothness (benign (0) and malignant (1) ): \n",
      "diagnosis\n",
      "B    1.8510\n",
      "M    3.6795\n",
      "Name: smoothness_mean, dtype: float64\n"
     ]
    }
   ],
   "source": [
    "print(\"Mean smoothness (benign (0) and malignant (1) ): \")\n",
    "smooth_mean = df.groupby(\"diagnosis\")[\"smoothness_mean\"].mean()\n",
    "print(smooth_mean)\n",
    "print(\"=\"*60)\n",
    "print(\"Median smoothness (benign (0) and malignant (1) ): \")\n",
    "smooth_median = df.groupby(\"diagnosis\")[\"smoothness_mean\"].median()\n",
    "print(smooth_median)"
   ]
  },
  {
   "cell_type": "markdown",
   "id": "58ba63b4",
   "metadata": {},
   "source": [
    "### Mean Compactness and Median Compactness"
   ]
  },
  {
   "cell_type": "code",
   "execution_count": 9,
   "id": "40a2e5ed",
   "metadata": {},
   "outputs": [
    {
     "name": "stdout",
     "output_type": "stream",
     "text": [
      "Mean compactness (benign (0) and malignant (1) ): \n",
      "diagnosis\n",
      "B    0.021438\n",
      "M    0.032281\n",
      "Name: compactness_mean, dtype: float64\n",
      "============================================================\n",
      "Median compactness (benign (0) and malignant (1) ): \n",
      "diagnosis\n",
      "B    0.01631\n",
      "M    0.02859\n",
      "Name: compactness_mean, dtype: float64\n"
     ]
    }
   ],
   "source": [
    "print(\"Mean compactness (benign (0) and malignant (1) ): \")\n",
    "compactness_mean = df.groupby(\"diagnosis\")[\"compactness_mean\"].mean()\n",
    "print(compactness_mean)\n",
    "print(\"=\"*60)\n",
    "print(\"Median compactness (benign (0) and malignant (1) ): \")\n",
    "compactness_median = df.groupby(\"diagnosis\")[\"compactness_mean\"].median()\n",
    "print(compactness_median)"
   ]
  },
  {
   "cell_type": "markdown",
   "id": "22706706",
   "metadata": {},
   "source": [
    "## Bootstrap Function"
   ]
  },
  {
   "cell_type": "markdown",
   "id": "f83d7d08",
   "metadata": {},
   "source": [
    "#The following function can create several bootstrap samples from a given dataframe, df #It can be adjusted so that the sampling is stratified def boot"
   ]
  },
  {
   "cell_type": "code",
   "execution_count": 10,
   "id": "16abf62d",
   "metadata": {},
   "outputs": [
    {
     "name": "stdout",
     "output_type": "stream",
     "text": [
      "Dataset 1:\n",
      "           ID diagnosis  radius_mean  radius_sd_error  radius_worst  \\\n",
      "361    901041         B       13.300            21.57         85.24   \n",
      "342     89827         B       11.060            14.96         71.49   \n",
      "87   86135502         M       19.020            24.59        122.00   \n",
      "61     858981         B        8.598            20.98         54.66   \n",
      "49     857156         B       13.490            22.30         86.91   \n",
      "\n",
      "     texture_mean  texture_sd_error  texture_worst  perimeter_mean  \\\n",
      "361         546.1           0.08582        0.06373         0.03344   \n",
      "342         373.9           0.10330        0.09097         0.05397   \n",
      "87         1076.0           0.09029        0.12060         0.14680   \n",
      "61          221.8           0.12430        0.08963         0.03000   \n",
      "49          561.0           0.08752        0.07698         0.04751   \n",
      "\n",
      "     perimeter_sd_error  ...  concavity_worst  concave_points_mean  \\\n",
      "361            0.024240  ...           14.200                29.20   \n",
      "342            0.033410  ...           11.920                19.90   \n",
      "87             0.082710  ...           24.560                30.41   \n",
      "61             0.009259  ...            9.565                27.04   \n",
      "49             0.033840  ...           15.150                31.82   \n",
      "\n",
      "     concave_points_sd_error  concave_points_worst  symmetry_mean  \\\n",
      "361                    92.94                 621.2         0.1140   \n",
      "342                    79.76                 440.0         0.1418   \n",
      "87                    152.90                1623.0         0.1249   \n",
      "61                     62.06                 273.9         0.1639   \n",
      "49                     99.00                 698.8         0.1162   \n",
      "\n",
      "     symmetry_sd_error  symmetry_worst  fractal_dimension_mean  \\\n",
      "361             0.1667         0.12120                 0.05614   \n",
      "342             0.2210         0.22990                 0.10750   \n",
      "87              0.3206         0.57550                 0.19560   \n",
      "61              0.1698         0.09001                 0.02778   \n",
      "49              0.1711         0.22820                 0.12820   \n",
      "\n",
      "     fractal_dimension_sd_error  fractal_dimension_worst  \n",
      "361                      0.2637                  0.06658  \n",
      "342                      0.3301                  0.09080  \n",
      "87                       0.3956                  0.09288  \n",
      "61                       0.2972                  0.07712  \n",
      "49                       0.2871                  0.06917  \n",
      "\n",
      "[5 rows x 32 columns]\n",
      "Dataset 2:\n",
      "            ID diagnosis  radius_mean  radius_sd_error  radius_worst  \\\n",
      "87    86135502         M       19.020            24.59        122.00   \n",
      "211    8810528         B       11.840            18.94         75.51   \n",
      "150  871001501         B       13.000            20.78         83.51   \n",
      "424     907145         B        9.742            19.12         61.93   \n",
      "259   88725602         M       15.530            33.56        103.70   \n",
      "\n",
      "     texture_mean  texture_sd_error  texture_worst  perimeter_mean  \\\n",
      "87         1076.0           0.09029        0.12060        0.146800   \n",
      "211         428.0           0.08871        0.06900        0.026690   \n",
      "150         519.4           0.11350        0.07589        0.031360   \n",
      "424         289.7           0.10750        0.08333        0.008934   \n",
      "259         744.9           0.10630        0.16390        0.175100   \n",
      "\n",
      "     perimeter_sd_error  ...  concavity_worst  concave_points_mean  \\\n",
      "87              0.08271  ...            24.56                30.41   \n",
      "211             0.01393  ...            13.30                24.99   \n",
      "150             0.02645  ...            14.16                24.11   \n",
      "424             0.01967  ...            11.21                23.17   \n",
      "259             0.08399  ...            18.49                49.54   \n",
      "\n",
      "     concave_points_sd_error  concave_points_worst  symmetry_mean  \\\n",
      "87                    152.90                1623.0         0.1249   \n",
      "211                    85.22                 546.3         0.1280   \n",
      "150                    90.82                 616.7         0.1297   \n",
      "424                    71.79                 380.9         0.1398   \n",
      "259                   126.30                1035.0         0.1883   \n",
      "\n",
      "     symmetry_sd_error  symmetry_worst  fractal_dimension_mean  \\\n",
      "87              0.3206         0.57550                 0.19560   \n",
      "211             0.1880         0.14710                 0.06913   \n",
      "150             0.1105         0.08112                 0.06296   \n",
      "424             0.1352         0.02085                 0.04589   \n",
      "259             0.5564         0.57030                 0.20140   \n",
      "\n",
      "     fractal_dimension_sd_error  fractal_dimension_worst  \n",
      "87                       0.3956                  0.09288  \n",
      "211                      0.2535                  0.07993  \n",
      "150                      0.3196                  0.06435  \n",
      "424                      0.3196                  0.08009  \n",
      "259                      0.3512                  0.12040  \n",
      "\n",
      "[5 rows x 32 columns]\n",
      "Dataset 3:\n",
      "           ID diagnosis  radius_mean  radius_sd_error  radius_worst  \\\n",
      "228  88147202         B        12.62            23.97         81.35   \n",
      "19    8510426         B        13.54            14.36         87.46   \n",
      "225  88143502         B        14.34            13.47         92.51   \n",
      "79    8610908         B        12.86            18.00         83.19   \n",
      "218   8811842         M        19.80            21.56        129.70   \n",
      "\n",
      "     texture_mean  texture_sd_error  texture_worst  perimeter_mean  \\\n",
      "228         496.4           0.07903        0.07529         0.05438   \n",
      "19          566.3           0.09779        0.08129         0.06664   \n",
      "225         641.2           0.09906        0.07624         0.05724   \n",
      "79          506.3           0.09934        0.09546         0.03889   \n",
      "218        1230.0           0.09383        0.13060         0.12720   \n",
      "\n",
      "     perimeter_sd_error  ...  concavity_worst  concave_points_mean  \\\n",
      "228             0.02036  ...            14.20                31.31   \n",
      "19              0.04781  ...            15.11                19.26   \n",
      "225             0.04603  ...            16.77                16.90   \n",
      "79              0.02315  ...            14.24                24.82   \n",
      "218             0.08691  ...            25.73                28.64   \n",
      "\n",
      "     concave_points_sd_error  concave_points_worst  symmetry_mean  \\\n",
      "228                    90.67                 624.0         0.1227   \n",
      "19                     99.70                 711.2         0.1440   \n",
      "225                   110.40                 873.2         0.1297   \n",
      "79                     91.88                 622.1         0.1289   \n",
      "218                   170.30                2009.0         0.1353   \n",
      "\n",
      "     symmetry_sd_error  symmetry_worst  fractal_dimension_mean  \\\n",
      "228             0.3454          0.3911                 0.11800   \n",
      "19              0.1773          0.2390                 0.12880   \n",
      "225             0.1525          0.1632                 0.10870   \n",
      "79              0.2141          0.1731                 0.07926   \n",
      "218             0.3235          0.3617                 0.18200   \n",
      "\n",
      "     fractal_dimension_sd_error  fractal_dimension_worst  \n",
      "228                      0.2826                  0.09585  \n",
      "19                       0.2977                  0.07259  \n",
      "225                      0.3062                  0.06072  \n",
      "79                       0.2779                  0.07918  \n",
      "218                      0.3070                  0.08255  \n",
      "\n",
      "[5 rows x 32 columns]\n"
     ]
    }
   ],
   "source": [
    "# Write a function to generate bootstrap samples of the data\n",
    "# draw n samples with replacement\n",
    "\n",
    "def generate_bootstrap(data_frame, n):\n",
    "  sample_with_replacement = data_frame.sample(n=n,replace=True)\n",
    "  return sample_with_replacement\n",
    "\n",
    "print(\"Dataset 1:\")\n",
    "print(generate_bootstrap(df, 5)) \n",
    "print(\"Dataset 2:\")\n",
    "print(generate_bootstrap(df, 5)) \n",
    "print(\"Dataset 3:\")\n",
    "print(generate_bootstrap(df, 5)) "
   ]
  },
  {
   "cell_type": "markdown",
   "id": "76b0c238",
   "metadata": {},
   "source": [
    "# Exploratory Analysis"
   ]
  },
  {
   "cell_type": "code",
   "execution_count": 11,
   "id": "51ea2678",
   "metadata": {},
   "outputs": [],
   "source": [
    "# encoding 'diagnosis' feature as 0/1\n",
    "from sklearn.preprocessing import LabelEncoder \n",
    "le = LabelEncoder()\n",
    "le.fit(df['diagnosis'])\n",
    "df['diagnosis']=le.transform(df['diagnosis'])"
   ]
  },
  {
   "cell_type": "code",
   "execution_count": 12,
   "id": "539bea24",
   "metadata": {},
   "outputs": [
    {
     "data": {
      "text/plain": [
       "<seaborn.axisgrid.PairGrid at 0x7fd58ea8a850>"
      ]
     },
     "execution_count": 12,
     "metadata": {},
     "output_type": "execute_result"
    },
    {
     "data": {
      "image/png": "[encoded data removed]",
      "text/plain": [
       "<Figure size 180x1620 with 9 Axes>"
      ]
     },
     "metadata": {},
     "output_type": "display_data"
    }
   ],
   "source": [
    "#import seaborn as sns\n",
    "sns.set(style=\"ticks\")\n",
    "sns.pairplot(df, x_vars=['diagnosis'], y_vars=['radius_mean','symmetry_mean','texture_mean', 'perimeter_mean', 'area_mean', 'smoothness_mean', 'compactness_mean', 'concavity_mean', 'fractal_dimension_mean'])"
   ]
  },
  {
   "cell_type": "markdown",
   "id": "e02c5858",
   "metadata": {},
   "source": [
    "##### Based on distribution plots it's obvious that some features are more effective on classification of the label. For example \"fractal_distribution_mean\" distribtions for two diffrent label classes (0 and 1) are well separated"
   ]
  },
  {
   "cell_type": "markdown",
   "id": "244b8363",
   "metadata": {},
   "source": [
    "### According to the distribition plots, some features that are predictive of a malignant tumor:\n",
    "\n",
    "fractal_dimension_mean texture_mean radius_mean perimeter_mean smoothness_mean"
   ]
  },
  {
   "cell_type": "code",
   "execution_count": 13,
   "id": "4f9bd4cc",
   "metadata": {},
   "outputs": [
    {
     "data": {
      "text/plain": [
       "<AxesSubplot:>"
      ]
     },
     "execution_count": 13,
     "metadata": {},
     "output_type": "execute_result"
    },
    {
     "data": {
      "image/png": "[encoded data removed]",
      "text/plain": [
       "<Figure size 576x576 with 2 Axes>"
      ]
     },
     "metadata": {},
     "output_type": "display_data"
    }
   ],
   "source": [
    "# Checking the correlation between the predictive variables\n",
    "predictive = ['fractal_dimension_mean', 'texture_mean', 'radius_mean', 'perimeter_mean', 'smoothness_mean']\n",
    "df_predictive = df[predictive]\n",
    "\n",
    "# calculate the correlation matrix\n",
    "corr_mat = df_predictive.corr()\n",
    "# plot the heatmap\n",
    "fig, ax = plt.subplots(figsize=(8,8)) \n",
    "sns.heatmap(corr_mat, xticklabels=corr_mat.columns, yticklabels=corr_mat.columns, annot=True, linewidths=.5, ax=ax)"
   ]
  },
  {
   "cell_type": "raw",
   "id": "3788f94d",
   "metadata": {},
   "source": [
    "Some traits are highly connected, as can be seen. We can eliminate texture mean from our predictive features because the correlation between (texture mean, radius mean) is 0.99."
   ]
  },
  {
   "cell_type": "code",
   "execution_count": 14,
   "id": "feed5f62",
   "metadata": {},
   "outputs": [
    {
     "name": "stdout",
     "output_type": "stream",
     "text": [
      "Number of outliers for the feature fractal_dimension_mean is 0\n",
      "Number of outliers for the feature radius_mean is 14\n",
      "Number of outliers for the feature perimeter_mean is 18\n",
      "Number of outliers for the feature smoothness_mean is 38\n"
     ]
    }
   ],
   "source": [
    "def num_of_outlier(data_frame, feature):\n",
    "  Q1 = data_frame[feature].quantile(0.25)\n",
    "  Q3 = data_frame[feature].quantile(0.75)\n",
    "  IQR = Q3 - Q1\n",
    "  outlier = (data_frame[feature] < (Q1 - 1.5 * IQR)) |(data_frame[feature] > (Q3 + 1.5 * IQR))\n",
    "  num = sum(outlier)\n",
    "  return num\n",
    "\n",
    "print(\"Number of outliers for the feature {} is {}\".format('fractal_dimension_mean', num_of_outlier(df, 'fractal_dimension_mean')))\n",
    "print(\"Number of outliers for the feature {} is {}\".format('radius_mean', num_of_outlier(df, 'radius_mean')))\n",
    "print(\"Number of outliers for the feature {} is {}\".format('perimeter_mean', num_of_outlier(df, 'perimeter_mean')))\n",
    "print(\"Number of outliers for the feature {} is {}\".format('smoothness_mean', num_of_outlier(df, 'smoothness_mean')))"
   ]
  },
  {
   "cell_type": "markdown",
   "id": "5381bcc6",
   "metadata": {},
   "source": [
    "##### Based on the Number of outlier the best important features are 1-fractal_dimension_mean 2-radius_mean 3-perimeter_mean 4-smoothness_mean"
   ]
  },
  {
   "cell_type": "code",
   "execution_count": 15,
   "id": "d5b58a09",
   "metadata": {},
   "outputs": [
    {
     "data": {
      "text/plain": [
       "<AxesSubplot:xlabel='fractal_dimension_mean'>"
      ]
     },
     "execution_count": 15,
     "metadata": {},
     "output_type": "execute_result"
    },
    {
     "data": {
      "image/png": "[encoded data removed]",
      "text/plain": [
       "<Figure size 432x288 with 1 Axes>"
      ]
     },
     "metadata": {},
     "output_type": "display_data"
    }
   ],
   "source": [
    "sns.boxplot(x=df['fractal_dimension_mean'])"
   ]
  },
  {
   "cell_type": "code",
   "execution_count": 16,
   "id": "e0a93906",
   "metadata": {},
   "outputs": [
    {
     "data": {
      "text/plain": [
       "<AxesSubplot:xlabel='radius_mean'>"
      ]
     },
     "execution_count": 16,
     "metadata": {},
     "output_type": "execute_result"
    },
    {
     "data": {
      "image/png": "[encoded data removed]",
      "text/plain": [
       "<Figure size 432x288 with 1 Axes>"
      ]
     },
     "metadata": {},
     "output_type": "display_data"
    }
   ],
   "source": [
    "sns.boxplot(x=df[\"radius_mean\"])"
   ]
  },
  {
   "cell_type": "code",
   "execution_count": 17,
   "id": "a2204cfb",
   "metadata": {},
   "outputs": [
    {
     "data": {
      "text/plain": [
       "<AxesSubplot:xlabel='perimeter_mean'>"
      ]
     },
     "execution_count": 17,
     "metadata": {},
     "output_type": "execute_result"
    },
    {
     "data": {
      "image/png": "[encoded data removed]",
      "text/plain": [
       "<Figure size 432x288 with 1 Axes>"
      ]
     },
     "metadata": {},
     "output_type": "display_data"
    }
   ],
   "source": [
    "sns.boxplot(x=df['perimeter_mean'])"
   ]
  },
  {
   "cell_type": "code",
   "execution_count": 18,
   "id": "21670a78",
   "metadata": {},
   "outputs": [
    {
     "data": {
      "text/plain": [
       "<AxesSubplot:xlabel='smoothness_mean'>"
      ]
     },
     "execution_count": 18,
     "metadata": {},
     "output_type": "execute_result"
    },
    {
     "data": {
      "image/png": "[encoded data removed]",
      "text/plain": [
       "<Figure size 432x288 with 1 Axes>"
      ]
     },
     "metadata": {},
     "output_type": "display_data"
    }
   ],
   "source": [
    "sns.boxplot(x=df['smoothness_mean'])"
   ]
  },
  {
   "cell_type": "markdown",
   "id": "9df7cea1",
   "metadata": {},
   "source": [
    "# Modeling"
   ]
  },
  {
   "cell_type": "code",
   "execution_count": 19,
   "id": "2a1096d4",
   "metadata": {},
   "outputs": [
    {
     "name": "stdout",
     "output_type": "stream",
     "text": [
      "0    357\n",
      "1    212\n",
      "Name: diagnosis, dtype: int64\n"
     ]
    }
   ],
   "source": [
    "# Check distribution of diagnosis\n",
    "print(df.diagnosis.value_counts())"
   ]
  },
  {
   "cell_type": "markdown",
   "id": "fe0027d2",
   "metadata": {},
   "source": [
    "### Preprocessing"
   ]
  },
  {
   "cell_type": "code",
   "execution_count": 20,
   "id": "98391096",
   "metadata": {},
   "outputs": [],
   "source": [
    "X = df.drop([\"diagnosis\", \"texture_mean\", \"ID\"], axis = 1)\n",
    "y = df[\"diagnosis\"]"
   ]
  },
  {
   "cell_type": "code",
   "execution_count": 21,
   "id": "956a8d31",
   "metadata": {},
   "outputs": [],
   "source": [
    "# Split the data to train and test\n",
    "from sklearn.model_selection import train_test_split\n",
    "\n",
    "seed = 0 # the experiments can be replicated\n",
    "\n",
    "# 80% train and 20% test sets\n",
    "X_train, X_test, y_train, y_test = train_test_split(X, y, test_size=0.2, random_state=seed, stratify=y)"
   ]
  },
  {
   "cell_type": "code",
   "execution_count": 22,
   "id": "9977f18d",
   "metadata": {},
   "outputs": [],
   "source": [
    "# Feature Scaling\n",
    "from sklearn.preprocessing import StandardScaler\n",
    "sc = StandardScaler()\n",
    "\n",
    "X_train_sc = sc.fit_transform(X_train)\n",
    "X_test_sc = sc.transform(X_test)\n",
    "\n",
    "# changing to data frame\n",
    "X_train_sc = pd.DataFrame(X_train_sc, columns=X_train.columns)\n",
    "X_test_sc = pd.DataFrame(X_test_sc, columns=X_test.columns)"
   ]
  },
  {
   "cell_type": "markdown",
   "id": "402ca069",
   "metadata": {},
   "source": [
    "### Random Forest Classifier"
   ]
  },
  {
   "cell_type": "markdown",
   "id": "7bd738fb",
   "metadata": {},
   "source": [
    "Gridsearch is used to select the hyperparameters that produce the best crossvalidation results. This enables us to select hyperparameters that perform well on the test data, reducing overfitting."
   ]
  },
  {
   "cell_type": "code",
   "execution_count": 23,
   "id": "8b3853ec",
   "metadata": {},
   "outputs": [
    {
     "name": "stdout",
     "output_type": "stream",
     "text": [
      "Performance (test set): \n",
      "\n",
      "AUC Score : 0.9790\n",
      "Accuracy : 0.9386 \n",
      "\n",
      "\n",
      "Performance (train set): \n",
      "\n",
      "AUC Score : 0.9979\n",
      "Accuracy : 0.9824 \n",
      "\n",
      "Report of metrics on the test set:\n",
      "\n",
      "Accuracy score: 0.9385964912280702\n"
     ]
    }
   ],
   "source": [
    "from sklearn.model_selection import ParameterGrid \n",
    "from sklearn.ensemble import RandomForestClassifier\n",
    "from sklearn.metrics import accuracy_score, roc_auc_score, f1_score, classification_report\n",
    "\n",
    "param = {'max_depth': 3, 'max_features': 'sqrt', 'min_samples_leaf': 2, 'n_estimators': 100, 'random_state': 0, 'verbose': 0}\n",
    "\n",
    "rf = RandomForestClassifier(**param)\n",
    "rf.fit(X_train, y_train)  # training stage\n",
    "\n",
    "print(\"Performance (test set): \\n\")\n",
    "\n",
    "y_pre = rf.predict(X_test) # predictions\n",
    "y_pro = rf.predict_proba(X_test)[:, 1]\n",
    "\n",
    "y_pre_train = rf.predict(X_train) # predictions\n",
    "y_pro_train = rf.predict_proba(X_train)[:, 1]\n",
    "\n",
    "print(\"AUC Score : %.4f\" % roc_auc_score(y_test, y_pro))\n",
    "print(\"Accuracy : %.4f \\n\" % accuracy_score(y_test, y_pre))\n",
    "\n",
    "print(\"\\nPerformance (train set): \\n\")\n",
    "\n",
    "print(\"AUC Score : %.4f\" % roc_auc_score(y_train, y_pro_train))\n",
    "print(\"Accuracy : %.4f \\n\" % accuracy_score(y_train, y_pre_train))\n",
    "\n",
    "print(\"Report of metrics on the test set:\\n\")\n",
    "print(\"Accuracy score: {}\".format(accuracy_score(y_test, y_pre)))"
   ]
  },
  {
   "cell_type": "markdown",
   "id": "53a14cf7",
   "metadata": {},
   "source": [
    "##### Identify the most important predictive variables and explain how you identified them\n",
    "\n",
    "See below, where features are sorted by importance"
   ]
  },
  {
   "cell_type": "code",
   "execution_count": 24,
   "id": "c972fe6c",
   "metadata": {},
   "outputs": [
    {
     "data": {
      "text/plain": [
       "Text(0.5, 1.0, 'The Most Important Features')"
      ]
     },
     "execution_count": 24,
     "metadata": {},
     "output_type": "execute_result"
    },
    {
     "data": {
      "image/png": "[encoded data removed]",
      "text/plain": [
       "<Figure size 720x360 with 1 Axes>"
      ]
     },
     "metadata": {},
     "output_type": "display_data"
    }
   ],
   "source": [
    "# The most important features\n",
    "n = 10 # top 10 features\n",
    "pd.Series(rf.feature_importances_, index=X_train.columns).nlargest(10).plot(kind='barh', figsize=[10, 10/2], color='navy').invert_yaxis()    #  important feature in descending order\n",
    "ticks_x = np.linspace(0, 0.18, 5)   # (start, end, number of ticks)\n",
    "plt.xticks(ticks_x, fontsize=15, color='brown')\n",
    "plt.yticks(size=15, color='black' )\n",
    "plt.title('The Most Important Features', family='fantasy', size=20)"
   ]
  },
  {
   "cell_type": "markdown",
   "id": "b5f1fab3",
   "metadata": {},
   "source": [
    "The most essential features appear at the tops of trees, while the bottoms of trees are less important.\n",
    "\n",
    "Overfitting in Random Forest can be controlled by the number of trees and the amount of features picked at random to create each tree from bootstrapped data."
   ]
  },
  {
   "cell_type": "markdown",
   "id": "39c37f5b",
   "metadata": {},
   "source": [
    "## Logistic Regression"
   ]
  },
  {
   "cell_type": "code",
   "execution_count": 25,
   "id": "0bd9c8ba",
   "metadata": {},
   "outputs": [
    {
     "name": "stdout",
     "output_type": "stream",
     "text": [
      "              precision    recall  f1-score   support\n",
      "\n",
      "           0       0.96      0.98      0.97       113\n",
      "           1       0.96      0.91      0.94        58\n",
      "\n",
      "    accuracy                           0.96       171\n",
      "   macro avg       0.96      0.95      0.95       171\n",
      "weighted avg       0.96      0.96      0.96       171\n",
      "\n"
     ]
    }
   ],
   "source": [
    "from sklearn.linear_model import LogisticRegression\n",
    "from sklearn.model_selection import train_test_split\n",
    "from sklearn.metrics import classification_report, confusion_matrix\n",
    "\n",
    "X_train, X_test, y_train, y_test = train_test_split(df.drop(['diagnosis'],axis=1),\n",
    "                                                    df['diagnosis'], test_size=0.30, random_state=301)\n",
    "\n",
    "from sklearn.preprocessing import StandardScaler\n",
    "sc = StandardScaler()\n",
    "sc.fit(X_train)\n",
    "X_train_std = sc.transform(X_train)\n",
    "X_test_std = sc.transform(X_test)\n",
    "\n",
    "from sklearn.linear_model import LogisticRegression\n",
    "logmodel = LogisticRegression(C=10.0**-2,solver='liblinear')\n",
    "logmodel.fit(X_train_std,y_train)\n",
    "predictions = logmodel.predict(X_test_std)\n",
    "from sklearn.metrics import classification_report\n",
    "print(classification_report(y_test,predictions))"
   ]
  },
  {
   "cell_type": "code",
   "execution_count": 26,
   "id": "f49680b0",
   "metadata": {},
   "outputs": [],
   "source": [
    "#### Avoid overfitting by choosing the regularlization parameter that does best on the test data\n",
    "\n",
    "import numpy as np\n",
    "\n",
    "regularizationParam, auc, log_loss_difference = [], [], []\n",
    "\n",
    "from sklearn.metrics import roc_auc_score\n",
    "\n",
    "for c in np.arange(-5, 5):\n",
    "    logmodel = LogisticRegression(C=10.0**c, random_state=0,solver='liblinear')\n",
    "    logmodel.fit(X_train_std, y_train)\n",
    "    regularizationParam = np.append(regularizationParam,c)\n",
    "    auc = np.append(auc,roc_auc_score(y_test,logmodel.predict_proba(X_test_std)[:,1]))"
   ]
  },
  {
   "cell_type": "markdown",
   "id": "2d0381d6",
   "metadata": {},
   "source": [
    "The graph below shows the highest auc on the test data with a regularization parameter of c = -2. We look at the auc on the test data rather than the training data, because a high AUC on the test data could be due to overfitting. By looking at the test data, we see the AUC on data the model wasn't exposed to when we fit the model."
   ]
  },
  {
   "cell_type": "code",
   "execution_count": 27,
   "id": "30a3b694",
   "metadata": {},
   "outputs": [
    {
     "data": {
      "text/plain": [
       "[<matplotlib.lines.Line2D at 0x7fd5901f5280>]"
      ]
     },
     "execution_count": 27,
     "metadata": {},
     "output_type": "execute_result"
    },
    {
     "data": {
      "image/png": "[encoded data removed]",
      "text/plain": [
       "<Figure size 432x288 with 1 Axes>"
      ]
     },
     "metadata": {},
     "output_type": "display_data"
    }
   ],
   "source": [
    "import matplotlib.pyplot as plt\n",
    "plt.plot(regularizationParam, auc, color='magenta', marker='x', label='mylabel')"
   ]
  },
  {
   "cell_type": "markdown",
   "id": "5c5acff8",
   "metadata": {},
   "source": [
    "##### Evaluating Model Fit by Displaying a confusion matrix"
   ]
  },
  {
   "cell_type": "code",
   "execution_count": 28,
   "id": "ae8e9747",
   "metadata": {},
   "outputs": [
    {
     "data": {
      "text/plain": [
       "array([[111,   2],\n",
       "       [  5,  53]])"
      ]
     },
     "execution_count": 28,
     "metadata": {},
     "output_type": "execute_result"
    }
   ],
   "source": [
    "logmodel = LogisticRegression(C=10.0**-2, random_state=0,solver='liblinear')\n",
    "logmodel.fit(X_train_std, y_train)\n",
    "predictions = logmodel.predict(X_test_std)\n",
    "confusion_matrix(y_test, predictions)"
   ]
  },
  {
   "cell_type": "code",
   "execution_count": 29,
   "id": "f40393f0",
   "metadata": {},
   "outputs": [
    {
     "name": "stdout",
     "output_type": "stream",
     "text": [
      "              precision    recall  f1-score   support\n",
      "\n",
      "           0       0.96      0.98      0.97       113\n",
      "           1       0.96      0.91      0.94        58\n",
      "\n",
      "    accuracy                           0.96       171\n",
      "   macro avg       0.96      0.95      0.95       171\n",
      "weighted avg       0.96      0.96      0.96       171\n",
      "\n"
     ]
    }
   ],
   "source": [
    "#### Classification report\n",
    "print(classification_report(y_test,predictions))"
   ]
  },
  {
   "cell_type": "markdown",
   "id": "db66bce5",
   "metadata": {},
   "source": [
    "##### In each model, identify the most important predictive variables and explain how you identified them."
   ]
  },
  {
   "cell_type": "markdown",
   "id": "0869e956",
   "metadata": {},
   "source": [
    "Based on the absolute value of the coefficients, convavity_worst, concave_points_std_error, and fractal_dimension_mean are the three most important variables. Not surprisingly, the ID label is of low importance - this should just be a random ordering of the observations, so it would be surprising if it were predictive.\n",
    "\n",
    "Full list of coeifficients sorted by importance below."
   ]
  },
  {
   "cell_type": "code",
   "execution_count": 30,
   "id": "5c1cb67b",
   "metadata": {},
   "outputs": [
    {
     "data": {
      "text/html": [
       "<div>\n",
       "<style scoped>\n",
       "    .dataframe tbody tr th:only-of-type {\n",
       "        vertical-align: middle;\n",
       "    }\n",
       "\n",
       "    .dataframe tbody tr th {\n",
       "        vertical-align: top;\n",
       "    }\n",
       "\n",
       "    .dataframe thead th {\n",
       "        text-align: right;\n",
       "    }\n",
       "</style>\n",
       "<table border=\"1\" class=\"dataframe\">\n",
       "  <thead>\n",
       "    <tr style=\"text-align: right;\">\n",
       "      <th></th>\n",
       "      <th>label</th>\n",
       "      <th>abs coef</th>\n",
       "      <th>coef</th>\n",
       "      <th>odds ratio</th>\n",
       "    </tr>\n",
       "  </thead>\n",
       "  <tbody>\n",
       "    <tr>\n",
       "      <th>21</th>\n",
       "      <td>concavity_worst</td>\n",
       "      <td>0.230914</td>\n",
       "      <td>0.230914</td>\n",
       "      <td>1.259750</td>\n",
       "    </tr>\n",
       "    <tr>\n",
       "      <th>23</th>\n",
       "      <td>concave_points_sd_error</td>\n",
       "      <td>0.223046</td>\n",
       "      <td>0.223046</td>\n",
       "      <td>1.249879</td>\n",
       "    </tr>\n",
       "    <tr>\n",
       "      <th>28</th>\n",
       "      <td>fractal_dimension_mean</td>\n",
       "      <td>0.218217</td>\n",
       "      <td>0.218217</td>\n",
       "      <td>1.243857</td>\n",
       "    </tr>\n",
       "    <tr>\n",
       "      <th>24</th>\n",
       "      <td>concave_points_worst</td>\n",
       "      <td>0.210356</td>\n",
       "      <td>0.210356</td>\n",
       "      <td>1.234117</td>\n",
       "    </tr>\n",
       "    <tr>\n",
       "      <th>8</th>\n",
       "      <td>perimeter_sd_error</td>\n",
       "      <td>0.209471</td>\n",
       "      <td>0.209471</td>\n",
       "      <td>1.233026</td>\n",
       "    </tr>\n",
       "    <tr>\n",
       "      <th>1</th>\n",
       "      <td>radius_mean</td>\n",
       "      <td>0.205206</td>\n",
       "      <td>0.205206</td>\n",
       "      <td>1.227778</td>\n",
       "    </tr>\n",
       "    <tr>\n",
       "      <th>3</th>\n",
       "      <td>radius_worst</td>\n",
       "      <td>0.203965</td>\n",
       "      <td>0.203965</td>\n",
       "      <td>1.226255</td>\n",
       "    </tr>\n",
       "    <tr>\n",
       "      <th>4</th>\n",
       "      <td>texture_mean</td>\n",
       "      <td>0.197671</td>\n",
       "      <td>0.197671</td>\n",
       "      <td>1.218562</td>\n",
       "    </tr>\n",
       "    <tr>\n",
       "      <th>22</th>\n",
       "      <td>concave_points_mean</td>\n",
       "      <td>0.183726</td>\n",
       "      <td>0.183726</td>\n",
       "      <td>1.201687</td>\n",
       "    </tr>\n",
       "    <tr>\n",
       "      <th>11</th>\n",
       "      <td>area_sd_error</td>\n",
       "      <td>0.178114</td>\n",
       "      <td>0.178114</td>\n",
       "      <td>1.194961</td>\n",
       "    </tr>\n",
       "    <tr>\n",
       "      <th>7</th>\n",
       "      <td>perimeter_mean</td>\n",
       "      <td>0.169085</td>\n",
       "      <td>0.169085</td>\n",
       "      <td>1.184221</td>\n",
       "    </tr>\n",
       "    <tr>\n",
       "      <th>29</th>\n",
       "      <td>fractal_dimension_sd_error</td>\n",
       "      <td>0.164081</td>\n",
       "      <td>0.164081</td>\n",
       "      <td>1.178310</td>\n",
       "    </tr>\n",
       "    <tr>\n",
       "      <th>27</th>\n",
       "      <td>symmetry_worst</td>\n",
       "      <td>0.163482</td>\n",
       "      <td>0.163482</td>\n",
       "      <td>1.177604</td>\n",
       "    </tr>\n",
       "    <tr>\n",
       "      <th>14</th>\n",
       "      <td>smoothness_sd_error</td>\n",
       "      <td>0.159905</td>\n",
       "      <td>0.159905</td>\n",
       "      <td>1.173399</td>\n",
       "    </tr>\n",
       "    <tr>\n",
       "      <th>13</th>\n",
       "      <td>smoothness_mean</td>\n",
       "      <td>0.154275</td>\n",
       "      <td>0.154275</td>\n",
       "      <td>1.166812</td>\n",
       "    </tr>\n",
       "    <tr>\n",
       "      <th>2</th>\n",
       "      <td>radius_sd_error</td>\n",
       "      <td>0.152753</td>\n",
       "      <td>0.152753</td>\n",
       "      <td>1.165037</td>\n",
       "    </tr>\n",
       "    <tr>\n",
       "      <th>25</th>\n",
       "      <td>symmetry_mean</td>\n",
       "      <td>0.146629</td>\n",
       "      <td>0.146629</td>\n",
       "      <td>1.157924</td>\n",
       "    </tr>\n",
       "    <tr>\n",
       "      <th>26</th>\n",
       "      <td>symmetry_sd_error</td>\n",
       "      <td>0.128255</td>\n",
       "      <td>0.128255</td>\n",
       "      <td>1.136843</td>\n",
       "    </tr>\n",
       "    <tr>\n",
       "      <th>6</th>\n",
       "      <td>texture_worst</td>\n",
       "      <td>0.105613</td>\n",
       "      <td>0.105613</td>\n",
       "      <td>1.111392</td>\n",
       "    </tr>\n",
       "    <tr>\n",
       "      <th>5</th>\n",
       "      <td>texture_sd_error</td>\n",
       "      <td>0.094589</td>\n",
       "      <td>0.094589</td>\n",
       "      <td>1.099207</td>\n",
       "    </tr>\n",
       "    <tr>\n",
       "      <th>9</th>\n",
       "      <td>perimeter_worst</td>\n",
       "      <td>0.085387</td>\n",
       "      <td>0.085387</td>\n",
       "      <td>1.089138</td>\n",
       "    </tr>\n",
       "    <tr>\n",
       "      <th>20</th>\n",
       "      <td>concavity_sd_error</td>\n",
       "      <td>0.081690</td>\n",
       "      <td>-0.081690</td>\n",
       "      <td>0.921558</td>\n",
       "    </tr>\n",
       "    <tr>\n",
       "      <th>30</th>\n",
       "      <td>fractal_dimension_worst</td>\n",
       "      <td>0.065184</td>\n",
       "      <td>0.065184</td>\n",
       "      <td>1.067356</td>\n",
       "    </tr>\n",
       "    <tr>\n",
       "      <th>18</th>\n",
       "      <td>compactness_worst</td>\n",
       "      <td>0.050926</td>\n",
       "      <td>0.050926</td>\n",
       "      <td>1.052245</td>\n",
       "    </tr>\n",
       "    <tr>\n",
       "      <th>10</th>\n",
       "      <td>area_mean</td>\n",
       "      <td>0.048701</td>\n",
       "      <td>-0.048701</td>\n",
       "      <td>0.952466</td>\n",
       "    </tr>\n",
       "    <tr>\n",
       "      <th>15</th>\n",
       "      <td>smoothness_worst</td>\n",
       "      <td>0.043384</td>\n",
       "      <td>-0.043384</td>\n",
       "      <td>0.957544</td>\n",
       "    </tr>\n",
       "    <tr>\n",
       "      <th>16</th>\n",
       "      <td>compactness_mean</td>\n",
       "      <td>0.037250</td>\n",
       "      <td>-0.037250</td>\n",
       "      <td>0.963435</td>\n",
       "    </tr>\n",
       "    <tr>\n",
       "      <th>19</th>\n",
       "      <td>concavity_mean</td>\n",
       "      <td>0.033120</td>\n",
       "      <td>-0.033120</td>\n",
       "      <td>0.967422</td>\n",
       "    </tr>\n",
       "    <tr>\n",
       "      <th>17</th>\n",
       "      <td>compactness_sd_error</td>\n",
       "      <td>0.010113</td>\n",
       "      <td>-0.010113</td>\n",
       "      <td>0.989938</td>\n",
       "    </tr>\n",
       "    <tr>\n",
       "      <th>0</th>\n",
       "      <td>ID</td>\n",
       "      <td>0.008594</td>\n",
       "      <td>-0.008594</td>\n",
       "      <td>0.991443</td>\n",
       "    </tr>\n",
       "    <tr>\n",
       "      <th>12</th>\n",
       "      <td>area_worst</td>\n",
       "      <td>0.001431</td>\n",
       "      <td>-0.001431</td>\n",
       "      <td>0.998570</td>\n",
       "    </tr>\n",
       "  </tbody>\n",
       "</table>\n",
       "</div>"
      ],
      "text/plain": [
       "                         label  abs coef      coef  odds ratio\n",
       "21             concavity_worst  0.230914  0.230914    1.259750\n",
       "23     concave_points_sd_error  0.223046  0.223046    1.249879\n",
       "28      fractal_dimension_mean  0.218217  0.218217    1.243857\n",
       "24        concave_points_worst  0.210356  0.210356    1.234117\n",
       "8           perimeter_sd_error  0.209471  0.209471    1.233026\n",
       "1                  radius_mean  0.205206  0.205206    1.227778\n",
       "3                 radius_worst  0.203965  0.203965    1.226255\n",
       "4                 texture_mean  0.197671  0.197671    1.218562\n",
       "22         concave_points_mean  0.183726  0.183726    1.201687\n",
       "11               area_sd_error  0.178114  0.178114    1.194961\n",
       "7               perimeter_mean  0.169085  0.169085    1.184221\n",
       "29  fractal_dimension_sd_error  0.164081  0.164081    1.178310\n",
       "27              symmetry_worst  0.163482  0.163482    1.177604\n",
       "14         smoothness_sd_error  0.159905  0.159905    1.173399\n",
       "13             smoothness_mean  0.154275  0.154275    1.166812\n",
       "2              radius_sd_error  0.152753  0.152753    1.165037\n",
       "25               symmetry_mean  0.146629  0.146629    1.157924\n",
       "26           symmetry_sd_error  0.128255  0.128255    1.136843\n",
       "6                texture_worst  0.105613  0.105613    1.111392\n",
       "5             texture_sd_error  0.094589  0.094589    1.099207\n",
       "9              perimeter_worst  0.085387  0.085387    1.089138\n",
       "20          concavity_sd_error  0.081690 -0.081690    0.921558\n",
       "30     fractal_dimension_worst  0.065184  0.065184    1.067356\n",
       "18           compactness_worst  0.050926  0.050926    1.052245\n",
       "10                   area_mean  0.048701 -0.048701    0.952466\n",
       "15            smoothness_worst  0.043384 -0.043384    0.957544\n",
       "16            compactness_mean  0.037250 -0.037250    0.963435\n",
       "19              concavity_mean  0.033120 -0.033120    0.967422\n",
       "17        compactness_sd_error  0.010113 -0.010113    0.989938\n",
       "0                           ID  0.008594 -0.008594    0.991443\n",
       "12                  area_worst  0.001431 -0.001431    0.998570"
      ]
     },
     "execution_count": 30,
     "metadata": {},
     "output_type": "execute_result"
    }
   ],
   "source": [
    "coef_df = pd.DataFrame({'label': X_test.columns, 'abs coef': abs(logmodel.coef_[0]), 'coef': logmodel.coef_[0], 'odds ratio': np.exp(logmodel.coef_[0])}, columns=['label', 'abs coef', 'coef', 'odds ratio'])\n",
    "coef_df.sort_values(by=['abs coef'], ascending=False)"
   ]
  },
  {
   "cell_type": "markdown",
   "id": "a61b0671",
   "metadata": {},
   "source": [
    "# Technical Audiences"
   ]
  },
  {
   "cell_type": "markdown",
   "id": "177102c6",
   "metadata": {},
   "source": [
    "Limitations of this analysis include:\n",
    "\n",
    "* Limited actions to reduce overfitting\n",
    "* Small dataset size\n",
    "* no insight into how the data was collected or how the results of the model are going to be used. While the accuracy, especially for logistic regression, is good, we need to know how the results are going to be used in order to have high confidence of the adequacy of the model\n",
    "* limited graphical analysis (ran out of time)\n",
    "* no subject matter expert available to (a) explain the meanings of the columns (b) explain the methodology used to collect the data. In the absence of a subject matter expert a data scientist will always be vulnerable"
   ]
  },
  {
   "cell_type": "markdown",
   "id": "6b134983",
   "metadata": {},
   "source": [
    "Potential Improvements:\n",
    "\n",
    "* additional approaches to reducing overfitting, including a bigger test set and ensemble testing.\n",
    "* incorporate more graphical elements (for both the analysis of the raw data and explaining the results).\n",
    "* more comprehensive analysis of which factors are correlated to malignancy and which factors influence the model outcomes. Ran out of time to explore this aspect more completely"
   ]
  },
  {
   "cell_type": "markdown",
   "id": "83c9b9d1",
   "metadata": {},
   "source": [
    "# Non-Technical Audiences"
   ]
  },
  {
   "cell_type": "markdown",
   "id": "69507c91",
   "metadata": {},
   "source": [
    "##### Executive summary:\n",
    "\n",
    "We used an input dataset of about breast cancer records, each of which had details on a tumour. Each record indicated whether the tumour was benign or malignant and also contained 30 features (additional pieces of information about each tumour). Our goal was to determine whether we could use this input dataset to create a predictive machine learning model that when given a set of features for a tumour could predict whether or not the tumour would be malignant.\n",
    "\n",
    "To start, we analyzed the input dataset to determine its size and to ensure it did not contain anomalies that would cause problems (such as missing values or values with greatly varying scales). Next, we applied techniques to understand which of the features was correlated with the tumour being malignant. Then we applied a subset of the input dataset to two machine learning techniques to get trained models that predict whether a tumour is malignant or not given a set of information about the tumour.\n",
    "\n",
    "Once we had the trained models, we took the other subset of the input dataset (the part that had not been used to train the models) and had the models make predictions about whether the tumours from that subset were malignant. By comparing these predictions with the actual malignance information for these tumours, we got measurements of the accuracy of the models.\n",
    "\n",
    "Using the machine learning tenchniques we can predict malignant vs benign tumor. We have used two classification methods. our models takes different input features like radius_mean, area_mean, symmetry_mean and identifies (diagnose) malignant vs benign tumor. In our prediction, we can reach to 97% accuracy."
   ]
  },
  {
   "cell_type": "markdown",
   "id": "d7994da1",
   "metadata": {},
   "source": [
    "# PART 2"
   ]
  },
  {
   "cell_type": "markdown",
   "id": "ff621c19",
   "metadata": {},
   "source": [
    "## Student 1"
   ]
  },
  {
   "cell_type": "markdown",
   "id": "518506db",
   "metadata": {},
   "source": [
    "CODE\n",
    "\n",
    "* Train_test_split has been imported but not used\n",
    "* LinearRegression needs to be imported from sklearn.linear_model\n",
    "* Data loaded into d dataframe but used as data\n",
    "* Cv=1 in cross_val_score\n",
    "* divide your code up into individual cells. For example, one cell for imports, one cell for data ingestion, one cell for model training, etc.\n",
    "* lines 20 & 21 - it's a good idea to put all the imports in one place to keep your code from getting cluttered"
   ]
  },
  {
   "cell_type": "markdown",
   "id": "c0899ded",
   "metadata": {},
   "source": [
    "METHODOLOGY\n",
    "\n",
    "* Data should be evaluated for missing values.\n",
    "* There should be a check for correlated features.\n",
    "* you will save time for yourself if you begin by exploring the CSV file in Excel - see which columns are categorical (e.g. ContractTime, ContractType) continuous (e.g. SalaryNormalized) and free-form (e.g. Title).\n",
    "* next, apply the model in simplest way possible, assess the accuracy, and determine which input variables have the biggest impact"
   ]
  },
  {
   "cell_type": "markdown",
   "id": "f021bb19",
   "metadata": {},
   "source": [
    "CONCEPTUAL UNDERSTANDING\n",
    "\n",
    "* Python concept is need to review as there is redundancy in the code\n",
    "* The student needs to review concept of cross validation\n",
    "* this student did not have enough Python skill to get a clear idea of what they understood conceptually. "
   ]
  },
  {
   "cell_type": "markdown",
   "id": "2cd09ab3",
   "metadata": {},
   "source": [
    "## Student 2"
   ]
  },
  {
   "cell_type": "markdown",
   "id": "6ec143aa",
   "metadata": {},
   "source": [
    "CODE\n",
    "\n",
    "* divide your code up into individual cells. For example, one cell for imports, one cell for data ingestion, one cell for model training, etc.\n",
    "* line 9 - filename is incorrect\n",
    "* comments could be more meaningful\n",
    "* X should be a data frame to be used on cross validation"
   ]
  },
  {
   "cell_type": "markdown",
   "id": "3e141374",
   "metadata": {},
   "source": [
    "METHODOLOGY\n",
    "\n",
    "* No explaratory data analysis\n",
    "* There is no feature engineering/scaling\n",
    "* start your notebook with a quick summary of the overall goal - what will your finished project do? Also list assumptions\n",
    "* next, explain which model you want to use. For example, if you think linear regression (to predict a continuous value) is the correct model, put in a comments explaining why\n",
    "* you will save time for yourself if you begin by exploring the CSV file in Excel - see which columns are categorical (e.g. ContractTime, ContractType) continuous (e.g. SalaryNormalized) and free-form (e.g. Title)"
   ]
  },
  {
   "cell_type": "markdown",
   "id": "cdb99a80",
   "metadata": {},
   "source": [
    "CONCEPTUAL UNDERSTANDING\n",
    "\n",
    "* This student understands Python better - At the very least, his code ran without errors and required fewer corrections.\n",
    "* the student chose a column in the original dataset that is mostly missing values to attempt to correlate to another column, so the end result is not useful\n",
    "* The student needs to review concept of cross validation"
   ]
  },
  {
   "cell_type": "code",
   "execution_count": null,
   "id": "428b033e",
   "metadata": {},
   "outputs": [],
   "source": []
  }
 ],
 "metadata": {
  "kernelspec": {
   "display_name": "Python 3",
   "language": "python",
   "name": "python3"
  },
  "language_info": {
   "codemirror_mode": {
    "name": "ipython",
    "version": 3
   },
   "file_extension": ".py",
   "mimetype": "text/x-python",
   "name": "python",
   "nbconvert_exporter": "python",
   "pygments_lexer": "ipython3",
   "version": "3.8.8"
  }
 },
 "nbformat": 4,
 "nbformat_minor": 5
}
